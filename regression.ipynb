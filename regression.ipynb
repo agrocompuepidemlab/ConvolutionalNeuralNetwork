{
 "cells": [
  {
   "cell_type": "markdown",
   "metadata": {},
   "source": [
    "# Libraries"
   ]
  },
  {
   "cell_type": "code",
   "execution_count": null,
   "metadata": {},
   "outputs": [],
   "source": [
    "import pandas as pd\n",
    "import sklearn as sk\n",
    "from sklearn.neural_network import MLPRegressor\n",
    "from sklearn.datasets import make_regression\n",
    "from sklearn.model_selection import train_test_split\n",
    "from sklearn import  metrics\n",
    "import matplotlib.pyplot as plt\n",
    "import numpy as np\n",
    "import seaborn as sns"
   ]
  },
  {
   "cell_type": "markdown",
   "metadata": {},
   "source": [
    "# Dataset and train-test split"
   ]
  },
  {
   "cell_type": "code",
   "execution_count": null,
   "metadata": {},
   "outputs": [],
   "source": [
    "DatR = pd.read_excel('/content/drive/MyDrive/regresion_alter.xlsx')\n",
    "y = DatR['Severidad']\n",
    "x = DatR.drop(['imagen','Severidad'],axis=1)\n",
    "X_train, X_test, y_train, y_test = train_test_split(x, y,random_state=1)"
   ]
  },
  {
   "cell_type": "markdown",
   "metadata": {},
   "source": [
    "# Neural Network"
   ]
  },
  {
   "cell_type": "code",
   "execution_count": null,
   "metadata": {},
   "outputs": [],
   "source": [
    "model = MLPRegressor(random_state=1, max_iter=500, solver='lbfgs',hidden_layer_sizes=(16,32,64)).fit(X_train, y_train)\n",
    "model.predict(X_test[:2])"
   ]
  },
  {
   "cell_type": "code",
   "execution_count": null,
   "metadata": {},
   "outputs": [],
   "source": [
    "predicted = model.predict(x)\n",
    "predicted = pd.DataFrame(predicted)\n",
    "predicted.columns\n",
    "predicted.columns = (['predicted'])\n",
    "y = pd.DataFrame(y)\n",
    "Dat = pd.concat([y,predicted],axis=1)\n",
    "Dat"
   ]
  },
  {
   "cell_type": "code",
   "execution_count": null,
   "metadata": {},
   "outputs": [],
   "source": [
    "r = model.score(X_test, y_test)\n",
    "emc=(sk.metrics.mean_squared_error(Dat['Severidad'],Dat['predicted']))\n",
    "\n",
    "print(f'R squared: {r}')\n",
    "print(f'Mean Squared Error: {emc}')"
   ]
  },
  {
   "cell_type": "code",
   "execution_count": null,
   "metadata": {},
   "outputs": [],
   "source": [
    "plt.plot(Dat['Severidad'],Dat['predicted'],'o')\n",
    "plt.title('Severidad real vs predicha red neuronal regresión')\n",
    "plt.xlabel('Severidad real')\n",
    "plt.ylabel('Severidad predicha')\n",
    "Cor1 = np.corrcoef(Dat['Severidad'],Dat['predicted'])\n",
    "plt.text(1,60,'Correlación='+str(Cor1[0,1]))\n",
    "plt.show()"
   ]
  },
  {
   "cell_type": "markdown",
   "metadata": {},
   "source": [
    "# Neural network optimizer"
   ]
  },
  {
   "cell_type": "code",
   "execution_count": null,
   "metadata": {},
   "outputs": [],
   "source": [
    "while True: \n",
    "  from sklearn.model_selection import train_test_split\n",
    "  X_train, X_test, y_train, y_test = train_test_split(x, y)\n",
    "  model = MLPRegressor(solver='lbfgs', alpha=1e-5, hidden_layer_sizes=(30,28,26,24),random_state= 1)\n",
    "  model.fit(X_train, y_train)\n",
    "  model_prediction = model.predict(X_test)\n",
    "  emc=(sk.metrics.mean_squared_error(model_prediction, y_test))\n",
    "  r = model.score(X_train, y_train)\n",
    "  print(r)\n",
    "  print(emc)\n",
    "  if emc < 30 and r>0.70:\n",
    "    break"
   ]
  },
  {
   "cell_type": "code",
   "execution_count": null,
   "metadata": {},
   "outputs": [],
   "source": [
    "predicted = model.predict(x)\n",
    "predicted = pd.DataFrame(predicted)\n",
    "predicted.columns\n",
    "predicted.columns = (['predicted'])\n",
    "y = pd.DataFrame(y)\n",
    "Dat = pd.concat([y,predicted],axis=1)\n",
    "Dat"
   ]
  },
  {
   "cell_type": "code",
   "execution_count": null,
   "metadata": {},
   "outputs": [],
   "source": [
    "plt.plot(Dat['Severidad'],Dat['predicted'],'o')\n",
    "plt.title('Severidad real vs predicha red neuronal regresión')\n",
    "plt.xlabel('Severidad real')\n",
    "plt.ylabel('Severidad predicha')\n",
    "Cor1 = np.corrcoef(Dat['Severidad'],Dat['predicted'])\n",
    "plt.text(1,50,'Correlación='+str(Cor1[0,1]))\n",
    "plt.show()"
   ]
  },
  {
   "cell_type": "code",
   "execution_count": null,
   "metadata": {},
   "outputs": [],
   "source": [
    "sns.lmplot(x='Severidad',y='predicted',data=Dat)\n",
    "plt.xlabel('Severity (%)')\n",
    "plt.ylabel('Predicted (%)')\n",
    "plt.title('Severity vs Predicted-Regression Neural Network')\n",
    "corr = round(Cor1[0,1],2)\n",
    "plt.text(1,50,'R²='+str(corr))\n",
    "plt.text(1,48,'MSE='+str(round(emc,2)))\n",
    "plt.text(1,46,'Accuracy='+str(round(r,2)))"
   ]
  }
 ],
 "metadata": {
  "language_info": {
   "name": "python"
  }
 },
 "nbformat": 4,
 "nbformat_minor": 2
}
